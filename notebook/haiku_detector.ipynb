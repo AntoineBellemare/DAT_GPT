{
 "cells": [
  {
   "attachments": {},
   "cell_type": "markdown",
   "metadata": {},
   "source": [
    "# Haiku Detector"
   ]
  },
  {
   "cell_type": "code",
   "execution_count": 1,
   "metadata": {},
   "outputs": [
    {
     "name": "stderr",
     "output_type": "stream",
     "text": [
      "[nltk_data] Downloading package punkt to\n",
      "[nltk_data]     C:\\Users\\User\\AppData\\Roaming\\nltk_data...\n",
      "[nltk_data]   Package punkt is already up-to-date!\n",
      "[nltk_data] Downloading package cmudict to\n",
      "[nltk_data]     C:\\Users\\User\\AppData\\Roaming\\nltk_data...\n",
      "[nltk_data]   Package cmudict is already up-to-date!\n"
     ]
    }
   ],
   "source": [
    "import nltk\n",
    "from nltk.corpus import cmudict\n",
    "\n",
    "nltk.download('punkt')\n",
    "nltk.download('cmudict')\n",
    "\n",
    "pron_dict = cmudict.dict()\n",
    "\n",
    "def count_syllables(word):\n",
    "    # fallback to approximation if word not in dict\n",
    "    if word.lower() not in pron_dict:\n",
    "        return syllable_count_fallback(word)\n",
    "    else:\n",
    "        return [len(list(y for y in x if y[-1].isdigit())) for x in pron_dict[word.lower()]][0]\n",
    "\n",
    "def syllable_count_fallback(word):\n",
    "    count = 0\n",
    "    vowels = \"aeiouy\"\n",
    "    word = word.lower()\n",
    "    if word[0] in vowels:\n",
    "        count += 1\n",
    "    for index in range(1, len(word)):\n",
    "        if word[index] in vowels and word[index - 1] not in vowels:\n",
    "            count += 1\n",
    "    if word.endswith(\"e\"):\n",
    "        count -= 1\n",
    "    if word.endswith(\"le\"):\n",
    "        count += 1\n",
    "    if count == 0:\n",
    "        count += 1\n",
    "    return count\n",
    "\n",
    "def is_haiku(text):\n",
    "    lines = text.split('\\n')\n",
    "    if len(lines) != 3:\n",
    "        return False\n",
    "\n",
    "    for i, line in enumerate(lines):\n",
    "        words = nltk.word_tokenize(line)\n",
    "        syllables = 0\n",
    "        for word in words:\n",
    "            if word.isalpha():\n",
    "                syllables += count_syllables(word)\n",
    "        if i % 2 == 0 and syllables != 5:\n",
    "            return False\n",
    "        elif i == 1 and syllables != 7:\n",
    "            return False\n",
    "    return True\n"
   ]
  },
  {
   "cell_type": "code",
   "execution_count": 78,
   "metadata": {},
   "outputs": [],
   "source": [
    "# load json from machine_data_stories folder\n",
    "\n",
    "import json\n",
    "with open('../machine_data_stories/GPT4_temp0.6_haiku_nocrea110.json', 'r') as f:\n",
    "    data_06 = json.load(f)\n",
    "    data_06 = list(data_06.values())\n",
    "\n",
    "with open('../machine_data_stories/GPT4_temp0.8_haiku_nocrea110.json', 'r') as f:\n",
    "    data_08 = json.load(f)\n",
    "    data_08 = list(data_08.values())\n",
    "\n",
    "with open('../machine_data_stories/GPT4_temp1.0_haiku_nocrea100.json', 'r') as f:\n",
    "    data_10 = json.load(f)\n",
    "    data_10 = list(data_10.values())\n",
    "    \n",
    "with open('../machine_data_stories/GPT4_temp1.2_haiku_nocrea130.json', 'r') as f:\n",
    "    data_12 = json.load(f)\n",
    "    data_12 = list(data_12.values())\n",
    "\n",
    "with open('../machine_data_stories/GPT4_temp1.4_haiku_nocrea110.json', 'r') as f:\n",
    "    data_14 = json.load(f)\n",
    "    data_14 = list(data_14.values())\n",
    "    \n",
    "GPT4_haikus = {'0.6': data_06, '0.8': data_08, '1.0': data_10, '1.2': data_12, '1.4': data_14}\n",
    "\n",
    "GPT4_haikus_proportion = {}\n",
    "for key, value in GPT4_haikus.items():\n",
    "    # check if haiku in all haiku_list are haiku\n",
    "    haiku_count = 0\n",
    "    for haiku in value:\n",
    "        if is_haiku(haiku):\n",
    "            haiku_count += 1\n",
    "    # calculate proportion of haiku in haiku_list\n",
    "    haiku_proportion = haiku_count / len(haiku_list)\n",
    "    haiku_proportion\n",
    "    \n",
    "    GPT4_haikus_proportion[key] = haiku_proportion"
   ]
  },
  {
   "cell_type": "code",
   "execution_count": 83,
   "metadata": {},
   "outputs": [
    {
     "data": {
      "text/plain": [
       "Text(0.5, 0, 'Temperature')"
      ]
     },
     "execution_count": 83,
     "metadata": {},
     "output_type": "execute_result"
    },
    {
     "data": {
      "image/png": "[encoded data removed]",
      "text/plain": [
       "<Figure size 640x480 with 1 Axes>"
      ]
     },
     "metadata": {},
     "output_type": "display_data"
    }
   ],
   "source": [
    "#plot haiku proportion\n",
    "import matplotlib.pyplot as plt\n",
    "\n",
    "plt.bar(range(len(GPT4_haikus_proportion)), list(GPT4_haikus_proportion.values()), align='center')\n",
    "\n",
    "# add labels\n",
    "plt.xticks(range(len(GPT4_haikus_proportion)), list(GPT4_haikus_proportion.keys()))\n",
    "\n",
    "#add title\n",
    "plt.title('Proportion of haiku in GPT4 generated haiku')\n",
    "\n",
    "#add y label\n",
    "plt.ylabel('Proportion of haiku')\n",
    "\n",
    "#add x label\n",
    "plt.xlabel('Temperature')"
   ]
  },
  {
   "cell_type": "code",
   "execution_count": 61,
   "metadata": {},
   "outputs": [
    {
     "name": "stderr",
     "output_type": "stream",
     "text": [
      "[nltk_data] Downloading package punkt to\n",
      "[nltk_data]     C:\\Users\\User\\AppData\\Roaming\\nltk_data...\n",
      "[nltk_data]   Package punkt is already up-to-date!\n",
      "[nltk_data] Downloading package cmudict to\n",
      "[nltk_data]     C:\\Users\\User\\AppData\\Roaming\\nltk_data...\n",
      "[nltk_data]   Package cmudict is already up-to-date!\n"
     ]
    }
   ],
   "source": []
  }
 ],
 "metadata": {
  "kernelspec": {
   "display_name": "base",
   "language": "python",
   "name": "python3"
  },
  "language_info": {
   "codemirror_mode": {
    "name": "ipython",
    "version": 3
   },
   "file_extension": ".py",
   "mimetype": "text/x-python",
   "name": "python",
   "nbconvert_exporter": "python",
   "pygments_lexer": "ipython3",
   "version": "3.9.15"
  },
  "vscode": {
   "interpreter": {
    "hash": "32df7692b2e9bcd60c85d28bd941a7a696d3465114b96c4326ab6093c57a7708"
   }
  }
 },
 "nbformat": 4,
 "nbformat_minor": 4
}
